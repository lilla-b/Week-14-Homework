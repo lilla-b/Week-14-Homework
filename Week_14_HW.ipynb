{
 "cells": [
  {
   "cell_type": "markdown",
   "id": "debcd18c",
   "metadata": {},
   "source": [
    "# Week 14 Homework"
   ]
  },
  {
   "cell_type": "markdown",
   "id": "ccfa15b1",
   "metadata": {},
   "source": [
    "#### 1.\tPerform pre-processing on the full dataset here: https://www.kaggle.com/sohier/calcofi "
   ]
  },
  {
   "cell_type": "code",
   "execution_count": 1,
   "id": "5406dd9e",
   "metadata": {},
   "outputs": [],
   "source": [
    "import numpy as np\n",
    "import pandas as pd\n",
    "import matplotlib.pyplot as plt\n",
    "import seaborn as sns\n",
    "\n",
    "from sklearn.model_selection import train_test_split\n",
    "from sklearn.feature_selection import RFE\n",
    "from sklearn.linear_model import LinearRegression\n",
    "from sklearn.linear_model import LogisticRegression\n",
    "from statsmodels.formula.api import ols"
   ]
  },
  {
   "cell_type": "code",
   "execution_count": 2,
   "id": "e693de57",
   "metadata": {},
   "outputs": [],
   "source": [
    "# a few words about why I did this.\n",
    "pd.set_option('max_columns', 74)\n",
    "pd.set_option('max_rows', 74)"
   ]
  },
  {
   "cell_type": "code",
   "execution_count": 3,
   "id": "9f9bef04",
   "metadata": {},
   "outputs": [
    {
     "data": {
      "text/html": [
       "<div>\n",
       "<style scoped>\n",
       "    .dataframe tbody tr th:only-of-type {\n",
       "        vertical-align: middle;\n",
       "    }\n",
       "\n",
       "    .dataframe tbody tr th {\n",
       "        vertical-align: top;\n",
       "    }\n",
       "\n",
       "    .dataframe thead th {\n",
       "        text-align: right;\n",
       "    }\n",
       "</style>\n",
       "<table border=\"1\" class=\"dataframe\">\n",
       "  <thead>\n",
       "    <tr style=\"text-align: right;\">\n",
       "      <th></th>\n",
       "      <th>Cst_Cnt</th>\n",
       "      <th>Btl_Cnt</th>\n",
       "      <th>Sta_ID</th>\n",
       "      <th>Depth_ID</th>\n",
       "      <th>Depthm</th>\n",
       "      <th>T_degC</th>\n",
       "      <th>Salnty</th>\n",
       "      <th>O2ml_L</th>\n",
       "      <th>STheta</th>\n",
       "      <th>O2Sat</th>\n",
       "      <th>Oxy_µmol/Kg</th>\n",
       "      <th>BtlNum</th>\n",
       "      <th>RecInd</th>\n",
       "      <th>T_prec</th>\n",
       "      <th>T_qual</th>\n",
       "      <th>S_prec</th>\n",
       "      <th>S_qual</th>\n",
       "      <th>P_qual</th>\n",
       "      <th>O_qual</th>\n",
       "      <th>SThtaq</th>\n",
       "      <th>O2Satq</th>\n",
       "      <th>ChlorA</th>\n",
       "      <th>Chlqua</th>\n",
       "      <th>Phaeop</th>\n",
       "      <th>Phaqua</th>\n",
       "      <th>PO4uM</th>\n",
       "      <th>PO4q</th>\n",
       "      <th>SiO3uM</th>\n",
       "      <th>SiO3qu</th>\n",
       "      <th>NO2uM</th>\n",
       "      <th>NO2q</th>\n",
       "      <th>NO3uM</th>\n",
       "      <th>NO3q</th>\n",
       "      <th>NH3uM</th>\n",
       "      <th>NH3q</th>\n",
       "      <th>C14As1</th>\n",
       "      <th>C14A1p</th>\n",
       "      <th>C14A1q</th>\n",
       "      <th>C14As2</th>\n",
       "      <th>C14A2p</th>\n",
       "      <th>C14A2q</th>\n",
       "      <th>DarkAs</th>\n",
       "      <th>DarkAp</th>\n",
       "      <th>DarkAq</th>\n",
       "      <th>MeanAs</th>\n",
       "      <th>MeanAp</th>\n",
       "      <th>MeanAq</th>\n",
       "      <th>IncTim</th>\n",
       "      <th>LightP</th>\n",
       "      <th>R_Depth</th>\n",
       "      <th>R_TEMP</th>\n",
       "      <th>R_POTEMP</th>\n",
       "      <th>R_SALINITY</th>\n",
       "      <th>R_SIGMA</th>\n",
       "      <th>R_SVA</th>\n",
       "      <th>R_DYNHT</th>\n",
       "      <th>R_O2</th>\n",
       "      <th>R_O2Sat</th>\n",
       "      <th>R_SIO3</th>\n",
       "      <th>R_PO4</th>\n",
       "      <th>R_NO3</th>\n",
       "      <th>R_NO2</th>\n",
       "      <th>R_NH4</th>\n",
       "      <th>R_CHLA</th>\n",
       "      <th>R_PHAEO</th>\n",
       "      <th>R_PRES</th>\n",
       "      <th>R_SAMP</th>\n",
       "      <th>DIC1</th>\n",
       "      <th>DIC2</th>\n",
       "      <th>TA1</th>\n",
       "      <th>TA2</th>\n",
       "      <th>pH2</th>\n",
       "      <th>pH1</th>\n",
       "      <th>DIC Quality Comment</th>\n",
       "    </tr>\n",
       "  </thead>\n",
       "  <tbody>\n",
       "    <tr>\n",
       "      <th>0</th>\n",
       "      <td>1</td>\n",
       "      <td>1</td>\n",
       "      <td>054.0 056.0</td>\n",
       "      <td>19-4903CR-HY-060-0930-05400560-0000A-3</td>\n",
       "      <td>0</td>\n",
       "      <td>10.50</td>\n",
       "      <td>33.440</td>\n",
       "      <td>NaN</td>\n",
       "      <td>25.649</td>\n",
       "      <td>NaN</td>\n",
       "      <td>NaN</td>\n",
       "      <td>NaN</td>\n",
       "      <td>3</td>\n",
       "      <td>1.0</td>\n",
       "      <td>NaN</td>\n",
       "      <td>2.0</td>\n",
       "      <td>NaN</td>\n",
       "      <td>9.0</td>\n",
       "      <td>9.0</td>\n",
       "      <td>NaN</td>\n",
       "      <td>9.0</td>\n",
       "      <td>NaN</td>\n",
       "      <td>9.0</td>\n",
       "      <td>NaN</td>\n",
       "      <td>9.0</td>\n",
       "      <td>NaN</td>\n",
       "      <td>9.0</td>\n",
       "      <td>NaN</td>\n",
       "      <td>9.0</td>\n",
       "      <td>NaN</td>\n",
       "      <td>9.0</td>\n",
       "      <td>NaN</td>\n",
       "      <td>9.0</td>\n",
       "      <td>NaN</td>\n",
       "      <td>9.0</td>\n",
       "      <td>NaN</td>\n",
       "      <td>NaN</td>\n",
       "      <td>9.0</td>\n",
       "      <td>NaN</td>\n",
       "      <td>NaN</td>\n",
       "      <td>9.0</td>\n",
       "      <td>NaN</td>\n",
       "      <td>NaN</td>\n",
       "      <td>9.0</td>\n",
       "      <td>NaN</td>\n",
       "      <td>NaN</td>\n",
       "      <td>9.0</td>\n",
       "      <td>NaN</td>\n",
       "      <td>NaN</td>\n",
       "      <td>0.0</td>\n",
       "      <td>10.50</td>\n",
       "      <td>10.50</td>\n",
       "      <td>33.440</td>\n",
       "      <td>25.64</td>\n",
       "      <td>233.0</td>\n",
       "      <td>0.00</td>\n",
       "      <td>NaN</td>\n",
       "      <td>NaN</td>\n",
       "      <td>NaN</td>\n",
       "      <td>NaN</td>\n",
       "      <td>NaN</td>\n",
       "      <td>NaN</td>\n",
       "      <td>NaN</td>\n",
       "      <td>NaN</td>\n",
       "      <td>NaN</td>\n",
       "      <td>0</td>\n",
       "      <td>NaN</td>\n",
       "      <td>NaN</td>\n",
       "      <td>NaN</td>\n",
       "      <td>NaN</td>\n",
       "      <td>NaN</td>\n",
       "      <td>NaN</td>\n",
       "      <td>NaN</td>\n",
       "      <td>NaN</td>\n",
       "    </tr>\n",
       "    <tr>\n",
       "      <th>1</th>\n",
       "      <td>1</td>\n",
       "      <td>2</td>\n",
       "      <td>054.0 056.0</td>\n",
       "      <td>19-4903CR-HY-060-0930-05400560-0008A-3</td>\n",
       "      <td>8</td>\n",
       "      <td>10.46</td>\n",
       "      <td>33.440</td>\n",
       "      <td>NaN</td>\n",
       "      <td>25.656</td>\n",
       "      <td>NaN</td>\n",
       "      <td>NaN</td>\n",
       "      <td>NaN</td>\n",
       "      <td>3</td>\n",
       "      <td>2.0</td>\n",
       "      <td>NaN</td>\n",
       "      <td>2.0</td>\n",
       "      <td>NaN</td>\n",
       "      <td>9.0</td>\n",
       "      <td>9.0</td>\n",
       "      <td>NaN</td>\n",
       "      <td>9.0</td>\n",
       "      <td>NaN</td>\n",
       "      <td>9.0</td>\n",
       "      <td>NaN</td>\n",
       "      <td>9.0</td>\n",
       "      <td>NaN</td>\n",
       "      <td>9.0</td>\n",
       "      <td>NaN</td>\n",
       "      <td>9.0</td>\n",
       "      <td>NaN</td>\n",
       "      <td>9.0</td>\n",
       "      <td>NaN</td>\n",
       "      <td>9.0</td>\n",
       "      <td>NaN</td>\n",
       "      <td>9.0</td>\n",
       "      <td>NaN</td>\n",
       "      <td>NaN</td>\n",
       "      <td>9.0</td>\n",
       "      <td>NaN</td>\n",
       "      <td>NaN</td>\n",
       "      <td>9.0</td>\n",
       "      <td>NaN</td>\n",
       "      <td>NaN</td>\n",
       "      <td>9.0</td>\n",
       "      <td>NaN</td>\n",
       "      <td>NaN</td>\n",
       "      <td>9.0</td>\n",
       "      <td>NaN</td>\n",
       "      <td>NaN</td>\n",
       "      <td>8.0</td>\n",
       "      <td>10.46</td>\n",
       "      <td>10.46</td>\n",
       "      <td>33.440</td>\n",
       "      <td>25.65</td>\n",
       "      <td>232.5</td>\n",
       "      <td>0.01</td>\n",
       "      <td>NaN</td>\n",
       "      <td>NaN</td>\n",
       "      <td>NaN</td>\n",
       "      <td>NaN</td>\n",
       "      <td>NaN</td>\n",
       "      <td>NaN</td>\n",
       "      <td>NaN</td>\n",
       "      <td>NaN</td>\n",
       "      <td>NaN</td>\n",
       "      <td>8</td>\n",
       "      <td>NaN</td>\n",
       "      <td>NaN</td>\n",
       "      <td>NaN</td>\n",
       "      <td>NaN</td>\n",
       "      <td>NaN</td>\n",
       "      <td>NaN</td>\n",
       "      <td>NaN</td>\n",
       "      <td>NaN</td>\n",
       "    </tr>\n",
       "    <tr>\n",
       "      <th>2</th>\n",
       "      <td>1</td>\n",
       "      <td>3</td>\n",
       "      <td>054.0 056.0</td>\n",
       "      <td>19-4903CR-HY-060-0930-05400560-0010A-7</td>\n",
       "      <td>10</td>\n",
       "      <td>10.46</td>\n",
       "      <td>33.437</td>\n",
       "      <td>NaN</td>\n",
       "      <td>25.654</td>\n",
       "      <td>NaN</td>\n",
       "      <td>NaN</td>\n",
       "      <td>NaN</td>\n",
       "      <td>7</td>\n",
       "      <td>2.0</td>\n",
       "      <td>NaN</td>\n",
       "      <td>3.0</td>\n",
       "      <td>NaN</td>\n",
       "      <td>9.0</td>\n",
       "      <td>9.0</td>\n",
       "      <td>NaN</td>\n",
       "      <td>9.0</td>\n",
       "      <td>NaN</td>\n",
       "      <td>9.0</td>\n",
       "      <td>NaN</td>\n",
       "      <td>9.0</td>\n",
       "      <td>NaN</td>\n",
       "      <td>9.0</td>\n",
       "      <td>NaN</td>\n",
       "      <td>9.0</td>\n",
       "      <td>NaN</td>\n",
       "      <td>9.0</td>\n",
       "      <td>NaN</td>\n",
       "      <td>9.0</td>\n",
       "      <td>NaN</td>\n",
       "      <td>9.0</td>\n",
       "      <td>NaN</td>\n",
       "      <td>NaN</td>\n",
       "      <td>9.0</td>\n",
       "      <td>NaN</td>\n",
       "      <td>NaN</td>\n",
       "      <td>9.0</td>\n",
       "      <td>NaN</td>\n",
       "      <td>NaN</td>\n",
       "      <td>9.0</td>\n",
       "      <td>NaN</td>\n",
       "      <td>NaN</td>\n",
       "      <td>9.0</td>\n",
       "      <td>NaN</td>\n",
       "      <td>NaN</td>\n",
       "      <td>10.0</td>\n",
       "      <td>10.46</td>\n",
       "      <td>10.46</td>\n",
       "      <td>33.437</td>\n",
       "      <td>25.65</td>\n",
       "      <td>232.8</td>\n",
       "      <td>0.02</td>\n",
       "      <td>NaN</td>\n",
       "      <td>NaN</td>\n",
       "      <td>NaN</td>\n",
       "      <td>NaN</td>\n",
       "      <td>NaN</td>\n",
       "      <td>NaN</td>\n",
       "      <td>NaN</td>\n",
       "      <td>NaN</td>\n",
       "      <td>NaN</td>\n",
       "      <td>10</td>\n",
       "      <td>NaN</td>\n",
       "      <td>NaN</td>\n",
       "      <td>NaN</td>\n",
       "      <td>NaN</td>\n",
       "      <td>NaN</td>\n",
       "      <td>NaN</td>\n",
       "      <td>NaN</td>\n",
       "      <td>NaN</td>\n",
       "    </tr>\n",
       "    <tr>\n",
       "      <th>3</th>\n",
       "      <td>1</td>\n",
       "      <td>4</td>\n",
       "      <td>054.0 056.0</td>\n",
       "      <td>19-4903CR-HY-060-0930-05400560-0019A-3</td>\n",
       "      <td>19</td>\n",
       "      <td>10.45</td>\n",
       "      <td>33.420</td>\n",
       "      <td>NaN</td>\n",
       "      <td>25.643</td>\n",
       "      <td>NaN</td>\n",
       "      <td>NaN</td>\n",
       "      <td>NaN</td>\n",
       "      <td>3</td>\n",
       "      <td>2.0</td>\n",
       "      <td>NaN</td>\n",
       "      <td>2.0</td>\n",
       "      <td>NaN</td>\n",
       "      <td>9.0</td>\n",
       "      <td>9.0</td>\n",
       "      <td>NaN</td>\n",
       "      <td>9.0</td>\n",
       "      <td>NaN</td>\n",
       "      <td>9.0</td>\n",
       "      <td>NaN</td>\n",
       "      <td>9.0</td>\n",
       "      <td>NaN</td>\n",
       "      <td>9.0</td>\n",
       "      <td>NaN</td>\n",
       "      <td>9.0</td>\n",
       "      <td>NaN</td>\n",
       "      <td>9.0</td>\n",
       "      <td>NaN</td>\n",
       "      <td>9.0</td>\n",
       "      <td>NaN</td>\n",
       "      <td>9.0</td>\n",
       "      <td>NaN</td>\n",
       "      <td>NaN</td>\n",
       "      <td>9.0</td>\n",
       "      <td>NaN</td>\n",
       "      <td>NaN</td>\n",
       "      <td>9.0</td>\n",
       "      <td>NaN</td>\n",
       "      <td>NaN</td>\n",
       "      <td>9.0</td>\n",
       "      <td>NaN</td>\n",
       "      <td>NaN</td>\n",
       "      <td>9.0</td>\n",
       "      <td>NaN</td>\n",
       "      <td>NaN</td>\n",
       "      <td>19.0</td>\n",
       "      <td>10.45</td>\n",
       "      <td>10.45</td>\n",
       "      <td>33.420</td>\n",
       "      <td>25.64</td>\n",
       "      <td>234.1</td>\n",
       "      <td>0.04</td>\n",
       "      <td>NaN</td>\n",
       "      <td>NaN</td>\n",
       "      <td>NaN</td>\n",
       "      <td>NaN</td>\n",
       "      <td>NaN</td>\n",
       "      <td>NaN</td>\n",
       "      <td>NaN</td>\n",
       "      <td>NaN</td>\n",
       "      <td>NaN</td>\n",
       "      <td>19</td>\n",
       "      <td>NaN</td>\n",
       "      <td>NaN</td>\n",
       "      <td>NaN</td>\n",
       "      <td>NaN</td>\n",
       "      <td>NaN</td>\n",
       "      <td>NaN</td>\n",
       "      <td>NaN</td>\n",
       "      <td>NaN</td>\n",
       "    </tr>\n",
       "    <tr>\n",
       "      <th>4</th>\n",
       "      <td>1</td>\n",
       "      <td>5</td>\n",
       "      <td>054.0 056.0</td>\n",
       "      <td>19-4903CR-HY-060-0930-05400560-0020A-7</td>\n",
       "      <td>20</td>\n",
       "      <td>10.45</td>\n",
       "      <td>33.421</td>\n",
       "      <td>NaN</td>\n",
       "      <td>25.643</td>\n",
       "      <td>NaN</td>\n",
       "      <td>NaN</td>\n",
       "      <td>NaN</td>\n",
       "      <td>7</td>\n",
       "      <td>2.0</td>\n",
       "      <td>NaN</td>\n",
       "      <td>3.0</td>\n",
       "      <td>NaN</td>\n",
       "      <td>9.0</td>\n",
       "      <td>9.0</td>\n",
       "      <td>NaN</td>\n",
       "      <td>9.0</td>\n",
       "      <td>NaN</td>\n",
       "      <td>9.0</td>\n",
       "      <td>NaN</td>\n",
       "      <td>9.0</td>\n",
       "      <td>NaN</td>\n",
       "      <td>9.0</td>\n",
       "      <td>NaN</td>\n",
       "      <td>9.0</td>\n",
       "      <td>NaN</td>\n",
       "      <td>9.0</td>\n",
       "      <td>NaN</td>\n",
       "      <td>9.0</td>\n",
       "      <td>NaN</td>\n",
       "      <td>9.0</td>\n",
       "      <td>NaN</td>\n",
       "      <td>NaN</td>\n",
       "      <td>9.0</td>\n",
       "      <td>NaN</td>\n",
       "      <td>NaN</td>\n",
       "      <td>9.0</td>\n",
       "      <td>NaN</td>\n",
       "      <td>NaN</td>\n",
       "      <td>9.0</td>\n",
       "      <td>NaN</td>\n",
       "      <td>NaN</td>\n",
       "      <td>9.0</td>\n",
       "      <td>NaN</td>\n",
       "      <td>NaN</td>\n",
       "      <td>20.0</td>\n",
       "      <td>10.45</td>\n",
       "      <td>10.45</td>\n",
       "      <td>33.421</td>\n",
       "      <td>25.64</td>\n",
       "      <td>234.0</td>\n",
       "      <td>0.04</td>\n",
       "      <td>NaN</td>\n",
       "      <td>NaN</td>\n",
       "      <td>NaN</td>\n",
       "      <td>NaN</td>\n",
       "      <td>NaN</td>\n",
       "      <td>NaN</td>\n",
       "      <td>NaN</td>\n",
       "      <td>NaN</td>\n",
       "      <td>NaN</td>\n",
       "      <td>20</td>\n",
       "      <td>NaN</td>\n",
       "      <td>NaN</td>\n",
       "      <td>NaN</td>\n",
       "      <td>NaN</td>\n",
       "      <td>NaN</td>\n",
       "      <td>NaN</td>\n",
       "      <td>NaN</td>\n",
       "      <td>NaN</td>\n",
       "    </tr>\n",
       "  </tbody>\n",
       "</table>\n",
       "</div>"
      ],
      "text/plain": [
       "   Cst_Cnt  Btl_Cnt       Sta_ID                                Depth_ID  \\\n",
       "0        1        1  054.0 056.0  19-4903CR-HY-060-0930-05400560-0000A-3   \n",
       "1        1        2  054.0 056.0  19-4903CR-HY-060-0930-05400560-0008A-3   \n",
       "2        1        3  054.0 056.0  19-4903CR-HY-060-0930-05400560-0010A-7   \n",
       "3        1        4  054.0 056.0  19-4903CR-HY-060-0930-05400560-0019A-3   \n",
       "4        1        5  054.0 056.0  19-4903CR-HY-060-0930-05400560-0020A-7   \n",
       "\n",
       "   Depthm  T_degC  Salnty  O2ml_L  STheta  O2Sat  Oxy_µmol/Kg  BtlNum  RecInd  \\\n",
       "0       0   10.50  33.440     NaN  25.649    NaN          NaN     NaN       3   \n",
       "1       8   10.46  33.440     NaN  25.656    NaN          NaN     NaN       3   \n",
       "2      10   10.46  33.437     NaN  25.654    NaN          NaN     NaN       7   \n",
       "3      19   10.45  33.420     NaN  25.643    NaN          NaN     NaN       3   \n",
       "4      20   10.45  33.421     NaN  25.643    NaN          NaN     NaN       7   \n",
       "\n",
       "   T_prec  T_qual  S_prec  S_qual  P_qual  O_qual  SThtaq  O2Satq  ChlorA  \\\n",
       "0     1.0     NaN     2.0     NaN     9.0     9.0     NaN     9.0     NaN   \n",
       "1     2.0     NaN     2.0     NaN     9.0     9.0     NaN     9.0     NaN   \n",
       "2     2.0     NaN     3.0     NaN     9.0     9.0     NaN     9.0     NaN   \n",
       "3     2.0     NaN     2.0     NaN     9.0     9.0     NaN     9.0     NaN   \n",
       "4     2.0     NaN     3.0     NaN     9.0     9.0     NaN     9.0     NaN   \n",
       "\n",
       "   Chlqua  Phaeop  Phaqua  PO4uM  PO4q  SiO3uM  SiO3qu  NO2uM  NO2q  NO3uM  \\\n",
       "0     9.0     NaN     9.0    NaN   9.0     NaN     9.0    NaN   9.0    NaN   \n",
       "1     9.0     NaN     9.0    NaN   9.0     NaN     9.0    NaN   9.0    NaN   \n",
       "2     9.0     NaN     9.0    NaN   9.0     NaN     9.0    NaN   9.0    NaN   \n",
       "3     9.0     NaN     9.0    NaN   9.0     NaN     9.0    NaN   9.0    NaN   \n",
       "4     9.0     NaN     9.0    NaN   9.0     NaN     9.0    NaN   9.0    NaN   \n",
       "\n",
       "   NO3q  NH3uM  NH3q  C14As1  C14A1p  C14A1q  C14As2  C14A2p  C14A2q  DarkAs  \\\n",
       "0   9.0    NaN   9.0     NaN     NaN     9.0     NaN     NaN     9.0     NaN   \n",
       "1   9.0    NaN   9.0     NaN     NaN     9.0     NaN     NaN     9.0     NaN   \n",
       "2   9.0    NaN   9.0     NaN     NaN     9.0     NaN     NaN     9.0     NaN   \n",
       "3   9.0    NaN   9.0     NaN     NaN     9.0     NaN     NaN     9.0     NaN   \n",
       "4   9.0    NaN   9.0     NaN     NaN     9.0     NaN     NaN     9.0     NaN   \n",
       "\n",
       "   DarkAp  DarkAq  MeanAs  MeanAp  MeanAq IncTim  LightP  R_Depth  R_TEMP  \\\n",
       "0     NaN     9.0     NaN     NaN     9.0    NaN     NaN      0.0   10.50   \n",
       "1     NaN     9.0     NaN     NaN     9.0    NaN     NaN      8.0   10.46   \n",
       "2     NaN     9.0     NaN     NaN     9.0    NaN     NaN     10.0   10.46   \n",
       "3     NaN     9.0     NaN     NaN     9.0    NaN     NaN     19.0   10.45   \n",
       "4     NaN     9.0     NaN     NaN     9.0    NaN     NaN     20.0   10.45   \n",
       "\n",
       "   R_POTEMP  R_SALINITY  R_SIGMA  R_SVA  R_DYNHT  R_O2  R_O2Sat  R_SIO3  \\\n",
       "0     10.50      33.440    25.64  233.0     0.00   NaN      NaN     NaN   \n",
       "1     10.46      33.440    25.65  232.5     0.01   NaN      NaN     NaN   \n",
       "2     10.46      33.437    25.65  232.8     0.02   NaN      NaN     NaN   \n",
       "3     10.45      33.420    25.64  234.1     0.04   NaN      NaN     NaN   \n",
       "4     10.45      33.421    25.64  234.0     0.04   NaN      NaN     NaN   \n",
       "\n",
       "   R_PO4  R_NO3  R_NO2  R_NH4  R_CHLA  R_PHAEO  R_PRES  R_SAMP  DIC1  DIC2  \\\n",
       "0    NaN    NaN    NaN    NaN     NaN      NaN       0     NaN   NaN   NaN   \n",
       "1    NaN    NaN    NaN    NaN     NaN      NaN       8     NaN   NaN   NaN   \n",
       "2    NaN    NaN    NaN    NaN     NaN      NaN      10     NaN   NaN   NaN   \n",
       "3    NaN    NaN    NaN    NaN     NaN      NaN      19     NaN   NaN   NaN   \n",
       "4    NaN    NaN    NaN    NaN     NaN      NaN      20     NaN   NaN   NaN   \n",
       "\n",
       "   TA1  TA2  pH2  pH1 DIC Quality Comment  \n",
       "0  NaN  NaN  NaN  NaN                 NaN  \n",
       "1  NaN  NaN  NaN  NaN                 NaN  \n",
       "2  NaN  NaN  NaN  NaN                 NaN  \n",
       "3  NaN  NaN  NaN  NaN                 NaN  \n",
       "4  NaN  NaN  NaN  NaN                 NaN  "
      ]
     },
     "execution_count": 3,
     "metadata": {},
     "output_type": "execute_result"
    }
   ],
   "source": [
    "#creating dataframe and looking at it\n",
    "bottle = pd.read_csv(\"../week_13/bottle.csv\", low_memory = False)\n",
    "bottle.head(5)"
   ]
  },
  {
   "cell_type": "code",
   "execution_count": 4,
   "id": "1ca4f013",
   "metadata": {},
   "outputs": [
    {
     "data": {
      "text/plain": [
       "Index(['Cst_Cnt', 'Btl_Cnt', 'Sta_ID', 'Depth_ID', 'Depthm', 'T_degC',\n",
       "       'Salnty', 'O2ml_L', 'STheta', 'O2Sat', 'Oxy_µmol/Kg', 'BtlNum',\n",
       "       'RecInd', 'T_prec', 'T_qual', 'S_prec', 'S_qual', 'P_qual', 'O_qual',\n",
       "       'SThtaq', 'O2Satq', 'ChlorA', 'Chlqua', 'Phaeop', 'Phaqua', 'PO4uM',\n",
       "       'PO4q', 'SiO3uM', 'SiO3qu', 'NO2uM', 'NO2q', 'NO3uM', 'NO3q', 'NH3uM',\n",
       "       'NH3q', 'C14As1', 'C14A1p', 'C14A1q', 'C14As2', 'C14A2p', 'C14A2q',\n",
       "       'DarkAs', 'DarkAp', 'DarkAq', 'MeanAs', 'MeanAp', 'MeanAq', 'IncTim',\n",
       "       'LightP', 'R_Depth', 'R_TEMP', 'R_POTEMP', 'R_SALINITY', 'R_SIGMA',\n",
       "       'R_SVA', 'R_DYNHT', 'R_O2', 'R_O2Sat', 'R_SIO3', 'R_PO4', 'R_NO3',\n",
       "       'R_NO2', 'R_NH4', 'R_CHLA', 'R_PHAEO', 'R_PRES', 'R_SAMP', 'DIC1',\n",
       "       'DIC2', 'TA1', 'TA2', 'pH2', 'pH1', 'DIC Quality Comment'],\n",
       "      dtype='object')"
      ]
     },
     "execution_count": 4,
     "metadata": {},
     "output_type": "execute_result"
    }
   ],
   "source": [
    "bottle.columns"
   ]
  },
  {
   "cell_type": "code",
   "execution_count": 5,
   "id": "2a0dbeec",
   "metadata": {},
   "outputs": [
    {
     "data": {
      "text/plain": [
       "Cst_Cnt                  int64\n",
       "Btl_Cnt                  int64\n",
       "Sta_ID                  object\n",
       "Depth_ID                object\n",
       "Depthm                   int64\n",
       "T_degC                 float64\n",
       "Salnty                 float64\n",
       "O2ml_L                 float64\n",
       "STheta                 float64\n",
       "O2Sat                  float64\n",
       "Oxy_µmol/Kg            float64\n",
       "BtlNum                 float64\n",
       "RecInd                   int64\n",
       "T_prec                 float64\n",
       "T_qual                 float64\n",
       "S_prec                 float64\n",
       "S_qual                 float64\n",
       "P_qual                 float64\n",
       "O_qual                 float64\n",
       "SThtaq                 float64\n",
       "O2Satq                 float64\n",
       "ChlorA                 float64\n",
       "Chlqua                 float64\n",
       "Phaeop                 float64\n",
       "Phaqua                 float64\n",
       "PO4uM                  float64\n",
       "PO4q                   float64\n",
       "SiO3uM                 float64\n",
       "SiO3qu                 float64\n",
       "NO2uM                  float64\n",
       "NO2q                   float64\n",
       "NO3uM                  float64\n",
       "NO3q                   float64\n",
       "NH3uM                  float64\n",
       "NH3q                   float64\n",
       "C14As1                 float64\n",
       "C14A1p                 float64\n",
       "C14A1q                 float64\n",
       "C14As2                 float64\n",
       "C14A2p                 float64\n",
       "C14A2q                 float64\n",
       "DarkAs                 float64\n",
       "DarkAp                 float64\n",
       "DarkAq                 float64\n",
       "MeanAs                 float64\n",
       "MeanAp                 float64\n",
       "MeanAq                 float64\n",
       "IncTim                  object\n",
       "LightP                 float64\n",
       "R_Depth                float64\n",
       "R_TEMP                 float64\n",
       "R_POTEMP               float64\n",
       "R_SALINITY             float64\n",
       "R_SIGMA                float64\n",
       "R_SVA                  float64\n",
       "R_DYNHT                float64\n",
       "R_O2                   float64\n",
       "R_O2Sat                float64\n",
       "R_SIO3                 float64\n",
       "R_PO4                  float64\n",
       "R_NO3                  float64\n",
       "R_NO2                  float64\n",
       "R_NH4                  float64\n",
       "R_CHLA                 float64\n",
       "R_PHAEO                float64\n",
       "R_PRES                   int64\n",
       "R_SAMP                 float64\n",
       "DIC1                   float64\n",
       "DIC2                   float64\n",
       "TA1                    float64\n",
       "TA2                    float64\n",
       "pH2                    float64\n",
       "pH1                    float64\n",
       "DIC Quality Comment     object\n",
       "dtype: object"
      ]
     },
     "execution_count": 5,
     "metadata": {},
     "output_type": "execute_result"
    }
   ],
   "source": [
    "bottle.dtypes\n"
   ]
  },
  {
   "cell_type": "markdown",
   "id": "a08c3e7f",
   "metadata": {},
   "source": [
    "### First pass: dropping uninformative columns (ID labels, object dtypes)"
   ]
  },
  {
   "cell_type": "markdown",
   "id": "3f6420a2",
   "metadata": {},
   "source": [
    "### Re: feature selection for this data set. Ultimately, feature selection should be guided by the context of the analysis. We should have some a priori sense of the kinds of questions we will ask of the data (which can be informed by multiple regression analysis), or the possible relationships between explanatory and response variables. \n",
    "\n",
    "For this homework assignment, the motivation for the multiple regression is unclear; are we trying to answer the same questions that we asked of the dataset for the linear regression? I am going to assume that the answer is 'yes'. In the last homework, we were looking at the relationship between salinity and water temperature (response variable). I assume that in this exercise we relax the focus on salinity and entertain other features as possibly exerting strong influence on water temperature. "
   ]
  },
  {
   "cell_type": "code",
   "execution_count": 6,
   "id": "301d86ad",
   "metadata": {},
   "outputs": [
    {
     "name": "stdout",
     "output_type": "stream",
     "text": [
      "Columns deleted from original daataset ['BtlNum', 'T_qual', 'S_qual', 'O_qual', 'SThtaq', 'O2Satq', 'ChlorA', 'Phaeop', 'PO4uM', 'PO4q', 'SiO3uM', 'SiO3qu', 'NO2uM', 'NO2q', 'NO3uM', 'NO3q', 'NH3uM', 'C14As1', 'C14A1p', 'C14As2', 'C14A2p', 'DarkAs', 'DarkAp', 'MeanAs', 'MeanAp', 'IncTim', 'LightP', 'R_SIO3', 'R_PO4', 'R_NO3', 'R_NO2', 'R_NH4', 'R_CHLA', 'R_PHAEO', 'R_SAMP', 'DIC1', 'DIC2', 'TA1', 'TA2', 'pH2', 'pH1', 'DIC Quality Comment']\n"
     ]
    }
   ],
   "source": [
    "# check for variable type:\n",
    "bottle.dtypes\n",
    "\n",
    "#check for / count nulls\n",
    "bottle.isnull().sum()\n",
    "\n",
    "#column list:\n",
    "bottle.columns\n",
    "\n",
    "# drop columns with nulls > 70%; creating a function for this;\n",
    "\n",
    "delete_col=[]\n",
    "for i in range(len(bottle.columns)):\n",
    "    percent_num = ((bottle.iloc[:,i].isnull().sum())/len(bottle))*100\n",
    "    if percent_num >= 30:\n",
    "            delete_col.append(bottle.columns[i])\n",
    "            \n",
    "print('Columns deleted from original daataset', delete_col)\n",
    "\n",
    "bottle.drop(delete_col, axis = 1, inplace = True)\n"
   ]
  },
  {
   "cell_type": "code",
   "execution_count": 7,
   "id": "296eb4f0",
   "metadata": {},
   "outputs": [
    {
     "data": {
      "text/html": [
       "<div>\n",
       "<style scoped>\n",
       "    .dataframe tbody tr th:only-of-type {\n",
       "        vertical-align: middle;\n",
       "    }\n",
       "\n",
       "    .dataframe tbody tr th {\n",
       "        vertical-align: top;\n",
       "    }\n",
       "\n",
       "    .dataframe thead th {\n",
       "        text-align: right;\n",
       "    }\n",
       "</style>\n",
       "<table border=\"1\" class=\"dataframe\">\n",
       "  <thead>\n",
       "    <tr style=\"text-align: right;\">\n",
       "      <th></th>\n",
       "      <th>Sta_ID</th>\n",
       "      <th>Depth_ID</th>\n",
       "    </tr>\n",
       "  </thead>\n",
       "  <tbody>\n",
       "    <tr>\n",
       "      <th>count</th>\n",
       "      <td>864863</td>\n",
       "      <td>864863</td>\n",
       "    </tr>\n",
       "    <tr>\n",
       "      <th>unique</th>\n",
       "      <td>2634</td>\n",
       "      <td>864850</td>\n",
       "    </tr>\n",
       "    <tr>\n",
       "      <th>top</th>\n",
       "      <td>090.0 045.0</td>\n",
       "      <td>20-16045S-MX-110-2018-06330900-0088A-3</td>\n",
       "    </tr>\n",
       "    <tr>\n",
       "      <th>freq</th>\n",
       "      <td>10043</td>\n",
       "      <td>2</td>\n",
       "    </tr>\n",
       "  </tbody>\n",
       "</table>\n",
       "</div>"
      ],
      "text/plain": [
       "             Sta_ID                                Depth_ID\n",
       "count        864863                                  864863\n",
       "unique         2634                                  864850\n",
       "top     090.0 045.0  20-16045S-MX-110-2018-06330900-0088A-3\n",
       "freq          10043                                       2"
      ]
     },
     "execution_count": 7,
     "metadata": {},
     "output_type": "execute_result"
    }
   ],
   "source": [
    "# VARIABLES WITH OBJECT TYPE:\n",
    "bottle.describe(include=['O'])"
   ]
  },
  {
   "cell_type": "code",
   "execution_count": 8,
   "id": "b2f8c8f6",
   "metadata": {},
   "outputs": [],
   "source": [
    "# Extracing Month from Depth_Id:\n",
    "\n",
    "bottle['month']= list(map((lambda x: x[5:7] ),bottle['Depth_ID']))\n",
    "\n",
    "bottle['year']= list(map((lambda x: x[0:2]+x[3:5] ),bottle['Depth_ID']))"
   ]
  },
  {
   "cell_type": "code",
   "execution_count": 9,
   "id": "b0bfa9b3",
   "metadata": {},
   "outputs": [],
   "source": [
    "# Droping object columns as they are out of scope:\n",
    "bottle.drop(['Sta_ID','Depth_ID'],axis=1,inplace=True)"
   ]
  },
  {
   "cell_type": "code",
   "execution_count": 10,
   "id": "8567f1e0",
   "metadata": {},
   "outputs": [
    {
     "data": {
      "text/plain": [
       "Index(['Cst_Cnt', 'Btl_Cnt', 'Depthm', 'T_degC', 'Salnty', 'O2ml_L', 'STheta',\n",
       "       'O2Sat', 'Oxy_µmol/Kg', 'RecInd', 'T_prec', 'S_prec', 'P_qual',\n",
       "       'Chlqua', 'Phaqua', 'NH3q', 'C14A1q', 'C14A2q', 'DarkAq', 'MeanAq',\n",
       "       'R_Depth', 'R_TEMP', 'R_POTEMP', 'R_SALINITY', 'R_SIGMA', 'R_SVA',\n",
       "       'R_DYNHT', 'R_O2', 'R_O2Sat', 'R_PRES', 'month', 'year'],\n",
       "      dtype='object')"
      ]
     },
     "execution_count": 10,
     "metadata": {},
     "output_type": "execute_result"
    }
   ],
   "source": [
    "bottle.columns"
   ]
  },
  {
   "cell_type": "code",
   "execution_count": null,
   "id": "b16d001f",
   "metadata": {},
   "outputs": [],
   "source": []
  },
  {
   "cell_type": "code",
   "execution_count": null,
   "id": "867f6909",
   "metadata": {},
   "outputs": [],
   "source": []
  },
  {
   "cell_type": "code",
   "execution_count": null,
   "id": "ab3fc247",
   "metadata": {},
   "outputs": [],
   "source": []
  },
  {
   "cell_type": "code",
   "execution_count": null,
   "id": "25611b15",
   "metadata": {},
   "outputs": [],
   "source": []
  },
  {
   "cell_type": "code",
   "execution_count": null,
   "id": "293d1533",
   "metadata": {},
   "outputs": [],
   "source": []
  },
  {
   "cell_type": "markdown",
   "id": "dedcc169",
   "metadata": {},
   "source": [
    "#### 2.\tPerform feature selection (decide what columns should be included in your analysis). How did you figure out what features were important?"
   ]
  },
  {
   "cell_type": "code",
   "execution_count": 11,
   "id": "48e65f21",
   "metadata": {},
   "outputs": [
    {
     "data": {
      "text/plain": [
       "Cst_Cnt        0.089329\n",
       "Btl_Cnt        0.090118\n",
       "Depthm        -0.681201\n",
       "T_degC         1.000000\n",
       "Salnty        -0.505266\n",
       "O2ml_L         0.795700\n",
       "STheta        -0.829155\n",
       "O2Sat          0.850596\n",
       "Oxy_µmol/Kg    0.795543\n",
       "RecInd        -0.066507\n",
       "T_prec        -0.041076\n",
       "S_prec        -0.036218\n",
       "P_qual        -0.000631\n",
       "Chlqua        -0.006510\n",
       "Phaqua        -0.006761\n",
       "NH3q           0.001007\n",
       "C14A1q        -0.004169\n",
       "C14A2q        -0.004169\n",
       "DarkAq        -0.004066\n",
       "MeanAq        -0.004214\n",
       "R_Depth       -0.681200\n",
       "R_TEMP         1.000000\n",
       "R_POTEMP       0.999954\n",
       "R_SALINITY    -0.503959\n",
       "R_SIGMA       -0.862161\n",
       "R_SVA          0.964171\n",
       "R_DYNHT       -0.799025\n",
       "R_O2           0.795700\n",
       "R_O2Sat        0.850365\n",
       "R_PRES        -0.679852\n",
       "Name: T_degC, dtype: float64"
      ]
     },
     "execution_count": 11,
     "metadata": {},
     "output_type": "execute_result"
    }
   ],
   "source": [
    "# Finding the correlation matrix for output variable \"T_degC\" with all other variables of the colunm:\n",
    "\n",
    "bottle.corr()['T_degC']"
   ]
  },
  {
   "cell_type": "code",
   "execution_count": 12,
   "id": "32afd69c",
   "metadata": {},
   "outputs": [],
   "source": [
    "# Drop all the variables that are least correlated (less than 0.4) WHY DID I cHOOSE THIS CRITERION\n",
    "\n",
    "bottle.drop(['Cst_Cnt', 'Btl_Cnt','RecInd', 'T_prec', 'S_prec', 'P_qual',\n",
    "       'Chlqua', 'Phaqua', 'NH3q', 'C14A1q', 'C14A2q', 'DarkAq', 'MeanAq'],axis=1,inplace=True)"
   ]
  },
  {
   "cell_type": "markdown",
   "id": "77630ac7",
   "metadata": {},
   "source": [
    "After observation colums with highly correlated with water temp are: 'Depthm' , 'O2ml_L', 'STheta', 'O2Sat', 'Oxy_µmol/Kg','R_Depth', 'R_TEMP', 'R_POTEMP', 'R_SALINITY', 'R_SIGMA', 'R_SVA','R_DYNHT', 'R_O2', 'R_O2Sat', 'R_PRES'.\n",
    "These variables are strongly correlated with water temperature either positively or negatively,therefore chosen for analysis.\n",
    "As independent variables need to uncorrelated to each other visually checking for the highly correlated independent variables then removing them."
   ]
  },
  {
   "cell_type": "code",
   "execution_count": 13,
   "id": "f883fa3f",
   "metadata": {},
   "outputs": [
    {
     "data": {
      "image/png": "[encoded data removed]",
      "text/plain": [
       "<Figure size 864x864 with 2 Axes>"
      ]
     },
     "metadata": {
      "needs_background": "light"
     },
     "output_type": "display_data"
    }
   ],
   "source": [
    "# Observing relation between independent variables:\n",
    "bottle_indep= bottle.copy()\n",
    "bottle_indep\n",
    "bottle_indep.drop('T_degC',axis=1)\n",
    "\n",
    "fig,ax = plt.subplots(figsize=(12, 12))   \n",
    "sns.heatmap(bottle_indep.corr(), annot=True, cmap=\"YlGnBu\")\n",
    "plt.show()"
   ]
  },
  {
   "cell_type": "markdown",
   "id": "a6dd3049",
   "metadata": {},
   "source": [
    "Vairables 'O2Sat' and 'Oxy_µmol/Kg','R_O2', 'R_O2Sat' are highly correlated. Hence reatining 'R_O2' and droped rest.\n",
    "Variables R_TEMP, R_POTEMP, T_degC are correlated, Hence T_degC is reatained.\n",
    "Between ariables R_Salinity and Salnty, Salnty is chosen and droped other.\n",
    "SThetha and R_Sigma too are highly correlated and hence R_Sigma is chosen as this\" reported\" potential density of water.\n",
    "Similarly Depthm and R_Depth too. Considered keeping R_Depth."
   ]
  },
  {
   "cell_type": "code",
   "execution_count": 14,
   "id": "69a43a66",
   "metadata": {},
   "outputs": [],
   "source": [
    "bottle.drop(['O2Sat','Oxy_µmol/Kg', 'R_O2Sat','R_TEMP', 'R_POTEMP','R_SALINITY','R_SIGMA','Depthm'],axis=1,inplace=True)\n"
   ]
  },
  {
   "cell_type": "code",
   "execution_count": 15,
   "id": "8ed31243",
   "metadata": {},
   "outputs": [
    {
     "data": {
      "text/plain": [
       "Index(['T_degC', 'Salnty', 'O2ml_L', 'STheta', 'R_Depth', 'R_SVA', 'R_DYNHT',\n",
       "       'R_O2', 'R_PRES', 'month', 'year'],\n",
       "      dtype='object')"
      ]
     },
     "execution_count": 15,
     "metadata": {},
     "output_type": "execute_result"
    }
   ],
   "source": [
    "#columns retained after analysis:\n",
    "bottle.columns"
   ]
  },
  {
   "cell_type": "code",
   "execution_count": 16,
   "id": "0288ba66",
   "metadata": {},
   "outputs": [
    {
     "data": {
      "image/png": "[encoded data removed]",
      "text/plain": [
       "<Figure size 864x864 with 2 Axes>"
      ]
     },
     "metadata": {
      "needs_background": "light"
     },
     "output_type": "display_data"
    }
   ],
   "source": [
    "fig,ax = plt.subplots(figsize=(12, 12))   \n",
    "sns.heatmap(bottle.corr(), annot=True, cmap=\"YlGnBu\")\n",
    "plt.show()"
   ]
  },
  {
   "cell_type": "markdown",
   "id": "5787afff",
   "metadata": {},
   "source": [
    "### Filling all the nan with appropriate values:"
   ]
  },
  {
   "cell_type": "code",
   "execution_count": 17,
   "id": "cc3497a3",
   "metadata": {},
   "outputs": [],
   "source": [
    "colm_list=['T_degC', 'Salnty', 'O2ml_L', 'STheta', 'R_Depth', 'R_SVA', 'R_DYNHT',\n",
    "       'R_O2', 'R_PRES']\n",
    "\n",
    "for i in colm_list:\n",
    "    bottle[i]=bottle[i].fillna(bottle[i].mean())"
   ]
  },
  {
   "cell_type": "markdown",
   "id": "0aaf588f",
   "metadata": {},
   "source": [
    "### RFE:"
   ]
  },
  {
   "cell_type": "code",
   "execution_count": 18,
   "id": "55e00472",
   "metadata": {},
   "outputs": [],
   "source": [
    "X=bottle.drop('T_degC',axis=1)\n",
    "y=bottle['T_degC']"
   ]
  },
  {
   "cell_type": "code",
   "execution_count": 19,
   "id": "10591b5f",
   "metadata": {},
   "outputs": [
    {
     "name": "stdout",
     "output_type": "stream",
     "text": [
      "[ True  True  True  True  True  True  True  True  True  True]\n",
      "[1 1 1 1 1 1 1 1 1 1]\n",
      "Model accuracy 0.9630908506322966\n"
     ]
    }
   ],
   "source": [
    "model=LinearRegression()\n",
    "rfe=RFE(model, n_features_to_select=10)   # 10 varibles are chosen randomly.\n",
    "X_rfe=rfe.fit_transform(X,y)\n",
    "model.fit(X_rfe,y)\n",
    "print(rfe.support_)\n",
    "print(rfe.ranking_)\n",
    "print(\"Model accuracy\",rfe.score(X,y))"
   ]
  },
  {
   "cell_type": "code",
   "execution_count": 20,
   "id": "352f0617",
   "metadata": {},
   "outputs": [
    {
     "name": "stdout",
     "output_type": "stream",
     "text": [
      "Index(['Salnty', 'O2ml_L', 'STheta', 'R_Depth', 'R_SVA', 'R_DYNHT', 'R_O2',\n",
      "       'R_PRES', 'month', 'year'],\n",
      "      dtype='object')\n"
     ]
    }
   ],
   "source": [
    "cols = list(X.columns)\n",
    "\n",
    "temp = pd.Series(rfe.support_,index = cols)\n",
    "selected_features_rfe = temp[temp==True].index\n",
    "print(selected_features_rfe)"
   ]
  },
  {
   "cell_type": "markdown",
   "id": "6b608c48",
   "metadata": {},
   "source": [
    "By appliying RFE on the columns it is observed that all the chosen columns are equally important. By choosing the variables 10 we get at max of 96% of information from the data. Hence our choice of picking variables is appropriate.\n"
   ]
  },
  {
   "cell_type": "code",
   "execution_count": null,
   "id": "722fd47b",
   "metadata": {},
   "outputs": [],
   "source": []
  },
  {
   "cell_type": "markdown",
   "id": "e8df6f1c",
   "metadata": {},
   "source": [
    "#### 3.\tPerform multiple linear regression on the dataset. Be sure to display the final resulting equation with the coefficients and intercept in markdown. "
   ]
  },
  {
   "cell_type": "code",
   "execution_count": 21,
   "id": "a61b0905",
   "metadata": {},
   "outputs": [],
   "source": [
    "# Linear Regression:\n",
    "\n",
    "X= np.array(bottle['Salnty']).reshape(-1,1)\n",
    "y= np.array(bottle['T_degC']).reshape(-1,1)\n",
    "X_train,X_test,y_train,y_test=train_test_split(X,y,test_size=0.25,random_state=1)\n",
    "\n",
    "\n",
    "bot_reg=LinearRegression()\n",
    "bot_reg.fit(X_train,y_train)\n",
    "\n",
    "y_pred=bot_reg.predict(X_test)"
   ]
  },
  {
   "cell_type": "code",
   "execution_count": 22,
   "id": "7eea3201",
   "metadata": {},
   "outputs": [
    {
     "name": "stdout",
     "output_type": "stream",
     "text": [
      "r2 score: 0.23889976582015215\n",
      "mean_sqrd_error : 13.50832345579292\n",
      "root_mean_squared error 3.675367118505704\n"
     ]
    }
   ],
   "source": [
    "from sklearn.metrics import r2_score\n",
    "from sklearn.metrics import mean_squared_error\n",
    "\n",
    "score=r2_score(y_test,y_pred)\n",
    "\n",
    "print(\"r2 score:\",score)\n",
    "print(\"mean_sqrd_error :\",mean_squared_error(y_test,y_pred))\n",
    "print(\"root_mean_squared error\",np.sqrt(mean_squared_error(y_test,y_pred)))"
   ]
  },
  {
   "cell_type": "code",
   "execution_count": 23,
   "id": "720198cf",
   "metadata": {},
   "outputs": [],
   "source": [
    "# Multi Linear Regression:\n",
    "\n",
    "X1= bottle[['Salnty', 'O2ml_L', 'STheta', 'R_Depth', 'R_SVA', 'R_DYNHT', 'R_O2','R_PRES']]\n",
    "y1= bottle['T_degC']\n",
    "X1_train,X1_test,y1_train,y1_test=train_test_split(X1,y1,test_size=0.25,random_state=1)\n",
    "\n",
    "mul_reg=LinearRegression()\n",
    "mul_reg.fit(X1_train,y1_train)\n",
    "\n",
    "y1_pred=mul_reg.predict(X1_test)"
   ]
  },
  {
   "cell_type": "code",
   "execution_count": 24,
   "id": "4047ed27",
   "metadata": {},
   "outputs": [
    {
     "name": "stdout",
     "output_type": "stream",
     "text": [
      "r2 score: 0.9629474971097681\n",
      "mean_sqrd_error : 0.6576232293862134\n",
      "root_mean_squared error 0.8109397199460718\n"
     ]
    }
   ],
   "source": [
    "score1=r2_score(y1_test,y1_pred)\n",
    "\n",
    "print(\"r2 score:\",score1)\n",
    "print(\"mean_sqrd_error :\",mean_squared_error(y1_test,y1_pred))\n",
    "print(\"root_mean_squared error\",np.sqrt(mean_squared_error(y1_test,y1_pred)))"
   ]
  },
  {
   "cell_type": "code",
   "execution_count": 25,
   "id": "4f82e9ac",
   "metadata": {},
   "outputs": [],
   "source": [
    "X_train=pd.DataFrame(X_train)"
   ]
  },
  {
   "cell_type": "code",
   "execution_count": 26,
   "id": "840ed78c",
   "metadata": {},
   "outputs": [],
   "source": [
    "X_train=X_train.rename(columns={'0':'Salnty'})"
   ]
  },
  {
   "cell_type": "code",
   "execution_count": 27,
   "id": "a1d5437e",
   "metadata": {},
   "outputs": [
    {
     "name": "stdout",
     "output_type": "stream",
     "text": [
      "Intercept of Linear model: [166.82321306]\n",
      "Intercept of Multi linear model: -123.50759879188757\n"
     ]
    }
   ],
   "source": [
    "#Intercept:\n",
    "\n",
    "print(\"Intercept of Linear model:\" ,bot_reg.intercept_ )\n",
    "\n",
    "print(\"Intercept of Multi linear model:\" ,mul_reg.intercept_)"
   ]
  },
  {
   "cell_type": "code",
   "execution_count": 28,
   "id": "73316e0f",
   "metadata": {},
   "outputs": [
    {
     "name": "stdout",
     "output_type": "stream",
     "text": [
      " Coefficient for linear model: [[-4.6105375]]\n",
      "The coefficient for multi linear model [ 3.65735187e+00  4.06546355e-01  1.50650686e-03 -4.72672325e-01\n",
      "  4.68214037e-02  2.34632694e+00 -1.95789239e-01  4.62561892e-01]\n"
     ]
    }
   ],
   "source": [
    "# Coefficient for linear model:\n",
    "\n",
    "print(\" Coefficient for linear model:\", bot_reg.coef_)\n",
    "\n",
    "#for idx, col_name in enumerate(X1.columns):\n",
    "print(\"The coefficient for multi linear model\",mul_reg.coef_)"
   ]
  },
  {
   "cell_type": "code",
   "execution_count": 29,
   "id": "0d5d9ac1",
   "metadata": {},
   "outputs": [
    {
     "data": {
      "text/plain": [
       "Index(['Salnty', 'O2ml_L', 'STheta', 'R_Depth', 'R_SVA', 'R_DYNHT', 'R_O2',\n",
       "       'R_PRES'],\n",
       "      dtype='object')"
      ]
     },
     "execution_count": 29,
     "metadata": {},
     "output_type": "execute_result"
    }
   ],
   "source": [
    "X1.columns"
   ]
  },
  {
   "cell_type": "markdown",
   "id": "bed156c6",
   "metadata": {},
   "source": [
    "Resulting equation for Linear Regression:\n",
    "y= 166.823 + (-4.6105375)Salnty\n",
    "\n",
    "Resulting equation for Multi Linear Regression:\n",
    "y= -123.5075 + (3.657)Salnty + (0.406)O2ml_L + (0.0015)STheta + (-0.4726)R_Depth + (0.0468)R_SVA + (2.346)R_DYNHT +(-0.1957)R_O2 + (0.4625)R_PRES"
   ]
  },
  {
   "cell_type": "code",
   "execution_count": null,
   "id": "f0a4fa6e",
   "metadata": {},
   "outputs": [],
   "source": []
  },
  {
   "cell_type": "markdown",
   "id": "1a9ee75a",
   "metadata": {},
   "source": [
    "#### 4.\tWhich regression approach had the “best” performance? Be sure to compare it to what you did last week."
   ]
  },
  {
   "cell_type": "markdown",
   "id": "e3364a59",
   "metadata": {},
   "source": [
    "Linear regression one each of independent and dependent variables are chosen and we analyse the correlation of one to other. Where as in Multi linear regression we consider multiple independent variables effect on one single dependent varibale. For these two models data is assumused to be linear.\n",
    "Here for linear model, effect of salnity on temperature of water is chosen for analysis. The coeffiecient came to be -4.61 where as from multi linear model the effect of salnity along with other independent variables are considered that salanity coefficient turned out to be +3.657. Though there is difference in coefficient it is observed that there is significant relation between salnity and water temperture.\n",
    "Overall, when ever we find high correlation between two variables it is always advisable to perform multi linear regression also.\n",
    "On comparing Linear regression and Multi Linear regression, observed that Multi linear regression gives better results.\n",
    "1. r^2 value got better using multi linear regression and is close to 92%.\n",
    "2. MSE has been reduced drastically for multi linear regression."
   ]
  },
  {
   "cell_type": "code",
   "execution_count": null,
   "id": "a71b4ef1",
   "metadata": {},
   "outputs": [],
   "source": []
  },
  {
   "cell_type": "code",
   "execution_count": null,
   "id": "e626a2e2",
   "metadata": {},
   "outputs": [],
   "source": []
  },
  {
   "cell_type": "markdown",
   "id": "08beafdc",
   "metadata": {},
   "source": [
    "#### 5.\tWork with the diabetes dataset to perform multiple logistic regression. Look at the documentation for logistic regression in statsmodel and/or sklearn and see if you can tune the model performance based on available parameters. Please note: data scientists need to constantly learn new approaches to optimizing models. This is one way of doing that. "
   ]
  },
  {
   "cell_type": "code",
   "execution_count": 30,
   "id": "797ee1dc",
   "metadata": {},
   "outputs": [
    {
     "data": {
      "text/html": [
       "<div>\n",
       "<style scoped>\n",
       "    .dataframe tbody tr th:only-of-type {\n",
       "        vertical-align: middle;\n",
       "    }\n",
       "\n",
       "    .dataframe tbody tr th {\n",
       "        vertical-align: top;\n",
       "    }\n",
       "\n",
       "    .dataframe thead th {\n",
       "        text-align: right;\n",
       "    }\n",
       "</style>\n",
       "<table border=\"1\" class=\"dataframe\">\n",
       "  <thead>\n",
       "    <tr style=\"text-align: right;\">\n",
       "      <th></th>\n",
       "      <th>Pregnancies</th>\n",
       "      <th>Glucose</th>\n",
       "      <th>BloodPressure</th>\n",
       "      <th>SkinThickness</th>\n",
       "      <th>Insulin</th>\n",
       "      <th>BMI</th>\n",
       "      <th>DiabetesPedigreeFunction</th>\n",
       "      <th>Age</th>\n",
       "      <th>Outcome</th>\n",
       "    </tr>\n",
       "  </thead>\n",
       "  <tbody>\n",
       "    <tr>\n",
       "      <th>0</th>\n",
       "      <td>6</td>\n",
       "      <td>148</td>\n",
       "      <td>72</td>\n",
       "      <td>35</td>\n",
       "      <td>0</td>\n",
       "      <td>33.6</td>\n",
       "      <td>0.627</td>\n",
       "      <td>50</td>\n",
       "      <td>1</td>\n",
       "    </tr>\n",
       "    <tr>\n",
       "      <th>1</th>\n",
       "      <td>1</td>\n",
       "      <td>85</td>\n",
       "      <td>66</td>\n",
       "      <td>29</td>\n",
       "      <td>0</td>\n",
       "      <td>26.6</td>\n",
       "      <td>0.351</td>\n",
       "      <td>31</td>\n",
       "      <td>0</td>\n",
       "    </tr>\n",
       "    <tr>\n",
       "      <th>2</th>\n",
       "      <td>8</td>\n",
       "      <td>183</td>\n",
       "      <td>64</td>\n",
       "      <td>0</td>\n",
       "      <td>0</td>\n",
       "      <td>23.3</td>\n",
       "      <td>0.672</td>\n",
       "      <td>32</td>\n",
       "      <td>1</td>\n",
       "    </tr>\n",
       "    <tr>\n",
       "      <th>3</th>\n",
       "      <td>1</td>\n",
       "      <td>89</td>\n",
       "      <td>66</td>\n",
       "      <td>23</td>\n",
       "      <td>94</td>\n",
       "      <td>28.1</td>\n",
       "      <td>0.167</td>\n",
       "      <td>21</td>\n",
       "      <td>0</td>\n",
       "    </tr>\n",
       "    <tr>\n",
       "      <th>4</th>\n",
       "      <td>0</td>\n",
       "      <td>137</td>\n",
       "      <td>40</td>\n",
       "      <td>35</td>\n",
       "      <td>168</td>\n",
       "      <td>43.1</td>\n",
       "      <td>2.288</td>\n",
       "      <td>33</td>\n",
       "      <td>1</td>\n",
       "    </tr>\n",
       "  </tbody>\n",
       "</table>\n",
       "</div>"
      ],
      "text/plain": [
       "   Pregnancies  Glucose  BloodPressure  SkinThickness  Insulin   BMI  \\\n",
       "0            6      148             72             35        0  33.6   \n",
       "1            1       85             66             29        0  26.6   \n",
       "2            8      183             64              0        0  23.3   \n",
       "3            1       89             66             23       94  28.1   \n",
       "4            0      137             40             35      168  43.1   \n",
       "\n",
       "   DiabetesPedigreeFunction  Age  Outcome  \n",
       "0                     0.627   50        1  \n",
       "1                     0.351   31        0  \n",
       "2                     0.672   32        1  \n",
       "3                     0.167   21        0  \n",
       "4                     2.288   33        1  "
      ]
     },
     "execution_count": 30,
     "metadata": {},
     "output_type": "execute_result"
    }
   ],
   "source": [
    "#creating the dataframe\n",
    "\n",
    "diabetes_df = pd.read_csv(\"../week_13/diabetes.csv\")\n",
    "diabetes_df.head()"
   ]
  },
  {
   "cell_type": "code",
   "execution_count": 31,
   "id": "d8363967",
   "metadata": {},
   "outputs": [
    {
     "data": {
      "text/plain": [
       "(768, 9)"
      ]
     },
     "execution_count": 31,
     "metadata": {},
     "output_type": "execute_result"
    }
   ],
   "source": [
    "diabetes_df.shape"
   ]
  },
  {
   "cell_type": "code",
   "execution_count": 32,
   "id": "e75169c1",
   "metadata": {},
   "outputs": [
    {
     "data": {
      "text/html": [
       "<div>\n",
       "<style scoped>\n",
       "    .dataframe tbody tr th:only-of-type {\n",
       "        vertical-align: middle;\n",
       "    }\n",
       "\n",
       "    .dataframe tbody tr th {\n",
       "        vertical-align: top;\n",
       "    }\n",
       "\n",
       "    .dataframe thead th {\n",
       "        text-align: right;\n",
       "    }\n",
       "</style>\n",
       "<table border=\"1\" class=\"dataframe\">\n",
       "  <thead>\n",
       "    <tr style=\"text-align: right;\">\n",
       "      <th></th>\n",
       "      <th>Pregnancies</th>\n",
       "      <th>Glucose</th>\n",
       "      <th>BloodPressure</th>\n",
       "      <th>SkinThickness</th>\n",
       "      <th>Insulin</th>\n",
       "      <th>BMI</th>\n",
       "      <th>DiabetesPedigreeFunction</th>\n",
       "      <th>Age</th>\n",
       "      <th>Outcome</th>\n",
       "    </tr>\n",
       "  </thead>\n",
       "  <tbody>\n",
       "    <tr>\n",
       "      <th>count</th>\n",
       "      <td>768.000000</td>\n",
       "      <td>768.000000</td>\n",
       "      <td>768.000000</td>\n",
       "      <td>768.000000</td>\n",
       "      <td>768.000000</td>\n",
       "      <td>768.000000</td>\n",
       "      <td>768.000000</td>\n",
       "      <td>768.000000</td>\n",
       "      <td>768.000000</td>\n",
       "    </tr>\n",
       "    <tr>\n",
       "      <th>mean</th>\n",
       "      <td>3.845052</td>\n",
       "      <td>120.894531</td>\n",
       "      <td>69.105469</td>\n",
       "      <td>20.536458</td>\n",
       "      <td>79.799479</td>\n",
       "      <td>31.992578</td>\n",
       "      <td>0.471876</td>\n",
       "      <td>33.240885</td>\n",
       "      <td>0.348958</td>\n",
       "    </tr>\n",
       "    <tr>\n",
       "      <th>std</th>\n",
       "      <td>3.369578</td>\n",
       "      <td>31.972618</td>\n",
       "      <td>19.355807</td>\n",
       "      <td>15.952218</td>\n",
       "      <td>115.244002</td>\n",
       "      <td>7.884160</td>\n",
       "      <td>0.331329</td>\n",
       "      <td>11.760232</td>\n",
       "      <td>0.476951</td>\n",
       "    </tr>\n",
       "    <tr>\n",
       "      <th>min</th>\n",
       "      <td>0.000000</td>\n",
       "      <td>0.000000</td>\n",
       "      <td>0.000000</td>\n",
       "      <td>0.000000</td>\n",
       "      <td>0.000000</td>\n",
       "      <td>0.000000</td>\n",
       "      <td>0.078000</td>\n",
       "      <td>21.000000</td>\n",
       "      <td>0.000000</td>\n",
       "    </tr>\n",
       "    <tr>\n",
       "      <th>25%</th>\n",
       "      <td>1.000000</td>\n",
       "      <td>99.000000</td>\n",
       "      <td>62.000000</td>\n",
       "      <td>0.000000</td>\n",
       "      <td>0.000000</td>\n",
       "      <td>27.300000</td>\n",
       "      <td>0.243750</td>\n",
       "      <td>24.000000</td>\n",
       "      <td>0.000000</td>\n",
       "    </tr>\n",
       "    <tr>\n",
       "      <th>50%</th>\n",
       "      <td>3.000000</td>\n",
       "      <td>117.000000</td>\n",
       "      <td>72.000000</td>\n",
       "      <td>23.000000</td>\n",
       "      <td>30.500000</td>\n",
       "      <td>32.000000</td>\n",
       "      <td>0.372500</td>\n",
       "      <td>29.000000</td>\n",
       "      <td>0.000000</td>\n",
       "    </tr>\n",
       "    <tr>\n",
       "      <th>75%</th>\n",
       "      <td>6.000000</td>\n",
       "      <td>140.250000</td>\n",
       "      <td>80.000000</td>\n",
       "      <td>32.000000</td>\n",
       "      <td>127.250000</td>\n",
       "      <td>36.600000</td>\n",
       "      <td>0.626250</td>\n",
       "      <td>41.000000</td>\n",
       "      <td>1.000000</td>\n",
       "    </tr>\n",
       "    <tr>\n",
       "      <th>max</th>\n",
       "      <td>17.000000</td>\n",
       "      <td>199.000000</td>\n",
       "      <td>122.000000</td>\n",
       "      <td>99.000000</td>\n",
       "      <td>846.000000</td>\n",
       "      <td>67.100000</td>\n",
       "      <td>2.420000</td>\n",
       "      <td>81.000000</td>\n",
       "      <td>1.000000</td>\n",
       "    </tr>\n",
       "  </tbody>\n",
       "</table>\n",
       "</div>"
      ],
      "text/plain": [
       "       Pregnancies     Glucose  BloodPressure  SkinThickness     Insulin  \\\n",
       "count   768.000000  768.000000     768.000000     768.000000  768.000000   \n",
       "mean      3.845052  120.894531      69.105469      20.536458   79.799479   \n",
       "std       3.369578   31.972618      19.355807      15.952218  115.244002   \n",
       "min       0.000000    0.000000       0.000000       0.000000    0.000000   \n",
       "25%       1.000000   99.000000      62.000000       0.000000    0.000000   \n",
       "50%       3.000000  117.000000      72.000000      23.000000   30.500000   \n",
       "75%       6.000000  140.250000      80.000000      32.000000  127.250000   \n",
       "max      17.000000  199.000000     122.000000      99.000000  846.000000   \n",
       "\n",
       "              BMI  DiabetesPedigreeFunction         Age     Outcome  \n",
       "count  768.000000                768.000000  768.000000  768.000000  \n",
       "mean    31.992578                  0.471876   33.240885    0.348958  \n",
       "std      7.884160                  0.331329   11.760232    0.476951  \n",
       "min      0.000000                  0.078000   21.000000    0.000000  \n",
       "25%     27.300000                  0.243750   24.000000    0.000000  \n",
       "50%     32.000000                  0.372500   29.000000    0.000000  \n",
       "75%     36.600000                  0.626250   41.000000    1.000000  \n",
       "max     67.100000                  2.420000   81.000000    1.000000  "
      ]
     },
     "execution_count": 32,
     "metadata": {},
     "output_type": "execute_result"
    }
   ],
   "source": [
    "diabetes_df.describe()"
   ]
  },
  {
   "cell_type": "code",
   "execution_count": 33,
   "id": "ede28067",
   "metadata": {},
   "outputs": [],
   "source": [
    "from sklearn.linear_model import LogisticRegression\n",
    "from sklearn.model_selection import train_test_split\n",
    "from sklearn.preprocessing import StandardScaler\n",
    "\n",
    "# Defining the feature matrix and the target.\n",
    "\n",
    "X = diabetes_df.drop('Outcome', axis=1)\n",
    "y = diabetes_df['Outcome']\n"
   ]
  },
  {
   "cell_type": "code",
   "execution_count": 34,
   "id": "43eb1169",
   "metadata": {},
   "outputs": [],
   "source": [
    "# Split data into training and testing sets\n",
    "\n",
    "X_train, X_test, y_train, y_test = train_test_split(X, y, test_size = 0.25, random_state = 14, stratify = y)\n"
   ]
  },
  {
   "cell_type": "code",
   "execution_count": 35,
   "id": "ba3dd43c",
   "metadata": {
    "scrolled": false
   },
   "outputs": [],
   "source": [
    "# Standardizing\n",
    "\n",
    "from sklearn.preprocessing import StandardScaler\n",
    "\n",
    "scale = StandardScaler()\n",
    "\n",
    "X_train = scale.fit_transform(X_train)\n",
    "X_test = scale.fit_transform(X_test)"
   ]
  },
  {
   "cell_type": "code",
   "execution_count": 36,
   "id": "6ab686ed",
   "metadata": {},
   "outputs": [],
   "source": [
    "#Simplest logistic regression approach\n",
    "clf = LogisticRegression(random_state=0).fit(X_train, y_train)\n",
    "#sample_pred=[[6,148,72,35,0,33.6,0.627,50]]\n",
    "y_predicted = clf.predict(X_test)"
   ]
  },
  {
   "cell_type": "code",
   "execution_count": 37,
   "id": "f19c6ad8",
   "metadata": {},
   "outputs": [
    {
     "data": {
      "text/plain": [
       "0.7552083333333334"
      ]
     },
     "execution_count": 37,
     "metadata": {},
     "output_type": "execute_result"
    }
   ],
   "source": [
    "clf.score(X_test,y_test)"
   ]
  },
  {
   "cell_type": "code",
   "execution_count": 38,
   "id": "730e24b4",
   "metadata": {},
   "outputs": [],
   "source": [
    "# Replacing zero to mean of all the columns except for pregnancies and outcome variables. \n",
    "#As gender information is not known ignoring that column. \n",
    "#Replacing to mean to make data meaning full as zero dont signify any info regarding insuln,glucose levels. \n",
    "\n",
    "col=diabetes_df.iloc[:,1:-1].columns\n",
    "for i in col:\n",
    "    diabetes_df[i]=diabetes_df[i].replace(0,round(diabetes_df[i].mean()))"
   ]
  },
  {
   "cell_type": "markdown",
   "id": "22b3f1c0",
   "metadata": {},
   "source": [
    "### Logistic Regression"
   ]
  },
  {
   "cell_type": "code",
   "execution_count": 39,
   "id": "42d5cd56",
   "metadata": {},
   "outputs": [],
   "source": [
    "X5=np.array(diabetes_df['BMI']).reshape(-1,1)\n",
    "y5=np.array(diabetes_df['Outcome']).reshape(-1,1).ravel()\n",
    "X5_train,X5_test,y5_train,y5_test=train_test_split(X5,y5,test_size=0.25)"
   ]
  },
  {
   "cell_type": "code",
   "execution_count": 40,
   "id": "e4cefad6",
   "metadata": {},
   "outputs": [
    {
     "name": "stdout",
     "output_type": "stream",
     "text": [
      "0.640625\n",
      "0.6692708333333334\n"
     ]
    }
   ],
   "source": [
    "diabetes_log_bmi= LogisticRegression(solver='liblinear')\n",
    "diabetes_log_bmi.fit(X5_train,y5_train)\n",
    "\n",
    "y_pred_bmi= diabetes_log_bmi.predict(X5_test)\n",
    "\n",
    "print(diabetes_log_bmi.score(X5_test,y5_test))\n",
    "print(diabetes_log_bmi.score(X5,y5))"
   ]
  },
  {
   "cell_type": "code",
   "execution_count": 41,
   "id": "eed71494",
   "metadata": {},
   "outputs": [
    {
     "name": "stdout",
     "output_type": "stream",
     "text": [
      "[[0.08377992]]\n"
     ]
    }
   ],
   "source": [
    "print(diabetes_log_bmi.coef_)"
   ]
  },
  {
   "cell_type": "code",
   "execution_count": 42,
   "id": "a8ad80cf",
   "metadata": {},
   "outputs": [
    {
     "data": {
      "text/plain": [
       "array([[106,  14],\n",
       "       [ 55,  17]])"
      ]
     },
     "execution_count": 42,
     "metadata": {},
     "output_type": "execute_result"
    }
   ],
   "source": [
    "from sklearn.metrics import confusion_matrix, plot_confusion_matrix\n",
    "\n",
    "con_log_one=confusion_matrix(y5_test, y_pred_bmi)\n",
    "con_log_one"
   ]
  },
  {
   "cell_type": "markdown",
   "id": "3fd60187",
   "metadata": {},
   "source": [
    "# Multiple Logistic Regression"
   ]
  },
  {
   "cell_type": "code",
   "execution_count": 43,
   "id": "22835bbb",
   "metadata": {},
   "outputs": [],
   "source": [
    "X=diabetes_df.iloc[:,0:-1]\n",
    "y=diabetes_df.iloc[:,-1]\n",
    "\n",
    "X_train,X_test,y_train,y_test=train_test_split(X,y,test_size=0.25,stratify=y)"
   ]
  },
  {
   "cell_type": "code",
   "execution_count": 44,
   "id": "51c37549",
   "metadata": {},
   "outputs": [
    {
     "name": "stdout",
     "output_type": "stream",
     "text": [
      "0.7291666666666666\n",
      "0.7669270833333334\n"
     ]
    }
   ],
   "source": [
    "diabetes_log= LogisticRegression(solver='liblinear')\n",
    "diabetes_log.fit(X_train,y_train)\n",
    "\n",
    "y_pred= diabetes_log.predict(X_test)\n",
    "\n",
    "print(diabetes_log.score(X_test,y_test))\n",
    "print(diabetes_log.score(X,y))"
   ]
  },
  {
   "cell_type": "code",
   "execution_count": 45,
   "id": "c3e8d7cc",
   "metadata": {},
   "outputs": [
    {
     "data": {
      "text/plain": [
       "array([[ 9.92469912e-02,  3.18128889e-02, -3.01755101e-02,\n",
       "         5.04681032e-04, -1.12602787e-03,  6.33232571e-02,\n",
       "         5.64115599e-01,  1.68001684e-02]])"
      ]
     },
     "execution_count": 45,
     "metadata": {},
     "output_type": "execute_result"
    }
   ],
   "source": [
    "diabetes_log.coef_"
   ]
  },
  {
   "cell_type": "code",
   "execution_count": 46,
   "id": "866af82e",
   "metadata": {},
   "outputs": [
    {
     "data": {
      "text/plain": [
       "array([[107,  18],\n",
       "       [ 34,  33]])"
      ]
     },
     "execution_count": 46,
     "metadata": {},
     "output_type": "execute_result"
    }
   ],
   "source": [
    "con_log=confusion_matrix(y_test, y_pred)\n",
    "con_log"
   ]
  },
  {
   "cell_type": "code",
   "execution_count": 47,
   "id": "c5d1dfe2",
   "metadata": {},
   "outputs": [
    {
     "data": {
      "text/plain": [
       "<sklearn.metrics._plot.confusion_matrix.ConfusionMatrixDisplay at 0x7fd1475d1580>"
      ]
     },
     "execution_count": 47,
     "metadata": {},
     "output_type": "execute_result"
    },
    {
     "data": {
      "image/png": "[encoded data removed]",
      "text/plain": [
       "<Figure size 432x288 with 2 Axes>"
      ]
     },
     "metadata": {
      "needs_background": "light"
     },
     "output_type": "display_data"
    }
   ],
   "source": [
    "plot_confusion_matrix(diabetes_log, X_test, y_test)"
   ]
  },
  {
   "cell_type": "code",
   "execution_count": 48,
   "id": "44d91b65",
   "metadata": {},
   "outputs": [
    {
     "name": "stdout",
     "output_type": "stream",
     "text": [
      "0.7447916666666666\n",
      "0.7721354166666666\n"
     ]
    }
   ],
   "source": [
    "# Multi Logistic using different approach:\n",
    "\n",
    "dia_mul=LogisticRegression(multi_class='multinomial',solver ='newton-cg').fit(X_train,y_train)\n",
    "\n",
    "y_pred_mul=dia_mul.predict(X_train)\n",
    "\n",
    "print(dia_mul.score(X_test,y_test))\n",
    "print(dia_mul.score(X,y))"
   ]
  },
  {
   "cell_type": "markdown",
   "id": "977fddba",
   "metadata": {},
   "source": [
    "#### 6.\tWhat are the other ways to assess the performance of the model besides accuracy? What approach makes the most sense with the diabetes dataset? Why? "
   ]
  },
  {
   "cell_type": "markdown",
   "id": "2e1029b3",
   "metadata": {},
   "source": [
    "#### Logistic performance:"
   ]
  },
  {
   "cell_type": "code",
   "execution_count": 49,
   "id": "886d3870",
   "metadata": {},
   "outputs": [
    {
     "name": "stdout",
     "output_type": "stream",
     "text": [
      "Accuracy for  Logistic: 0.640625\n"
     ]
    }
   ],
   "source": [
    "TNl = con_log_one[0,0]\n",
    "TPl = con_log_one[1,1]\n",
    "FNl = con_log_one[1,0]\n",
    "FPl = con_log_one[0,1]\n",
    "\n",
    "Accuracy_logl= (TNl + TPl) / (TNl + TPl + FNl + FPl)\n",
    "print(\"Accuracy for  Logistic:\",Accuracy_logl)"
   ]
  },
  {
   "cell_type": "code",
   "execution_count": 50,
   "id": "e98b01db",
   "metadata": {},
   "outputs": [
    {
     "name": "stdout",
     "output_type": "stream",
     "text": [
      "Sensitivity for Logistic: 0.2361111111111111\n"
     ]
    }
   ],
   "source": [
    "sens_logl = TPl / (FNl + TPl)\n",
    "\n",
    "print(\"Sensitivity for Logistic:\", sens_logl)"
   ]
  },
  {
   "cell_type": "code",
   "execution_count": 51,
   "id": "d77d1d49",
   "metadata": {},
   "outputs": [
    {
     "name": "stdout",
     "output_type": "stream",
     "text": [
      "Sensitivity for  Logistic: 0.8833333333333333\n"
     ]
    }
   ],
   "source": [
    "spec_logl = TNl / (TNl + FPl)\n",
    "\n",
    "print(\"Sensitivity for  Logistic:\", spec_logl)"
   ]
  },
  {
   "cell_type": "markdown",
   "id": "539c7569",
   "metadata": {},
   "source": [
    "#### Multi Logistic performace:\n"
   ]
  },
  {
   "cell_type": "code",
   "execution_count": 52,
   "id": "fb70fec0",
   "metadata": {},
   "outputs": [
    {
     "name": "stdout",
     "output_type": "stream",
     "text": [
      "Accuracy for Multi Logistic: 0.7291666666666666\n"
     ]
    }
   ],
   "source": [
    "TN = con_log[0,0]\n",
    "TP = con_log[1,1]\n",
    "FN = con_log[1,0]\n",
    "FP = con_log[0,1]\n",
    "\n",
    "Accuracy_log= (TN + TP) / (TN + TP + FN + FP)\n",
    "print(\"Accuracy for Multi Logistic:\",Accuracy_log)"
   ]
  },
  {
   "cell_type": "code",
   "execution_count": 53,
   "id": "aa56eaf4",
   "metadata": {},
   "outputs": [
    {
     "name": "stdout",
     "output_type": "stream",
     "text": [
      "Sensitivity for Multi Logistic: 0.4925373134328358\n"
     ]
    }
   ],
   "source": [
    "sens_log = TP / (FN + TP)\n",
    "\n",
    "print(\"Sensitivity for Multi Logistic:\", sens_log)"
   ]
  },
  {
   "cell_type": "code",
   "execution_count": 54,
   "id": "78cfd4f5",
   "metadata": {},
   "outputs": [
    {
     "name": "stdout",
     "output_type": "stream",
     "text": [
      "Sensitivity for Multi Logistic: 0.856\n"
     ]
    }
   ],
   "source": [
    "spec_log = TN / (TN + FP)\n",
    "\n",
    "print(\"Sensitivity for Multi Logistic:\", spec_log)"
   ]
  },
  {
   "cell_type": "markdown",
   "id": "3366d5bd",
   "metadata": {},
   "source": [
    "Multi Logistic model high accuracy compared to logistic model. Diabetes data it is advisable to consider multi logistic as outcome is not dependent on single variable.\n"
   ]
  },
  {
   "cell_type": "markdown",
   "id": "80a155d8",
   "metadata": {},
   "source": [
    "#### 7.\tIs the KNN model or the multiple logistic regression model more performant for the diabetes dataset? How can you tell? "
   ]
  },
  {
   "cell_type": "code",
   "execution_count": 56,
   "id": "647d7cea",
   "metadata": {},
   "outputs": [
    {
     "name": "stdout",
     "output_type": "stream",
     "text": [
      "[0 0 0 0 0 1 0 0 0 0 1 0 0 1 0 1 0 0 1 1 0 0 1 0 0 1 0 0 0 1 1 0 0 0 0 0 0\n",
      " 0 0 0 0 0 0 0 0 0 0 0 0 0 1 0 1 1 0 1 1 0 1 0 0 1 1 0 0 0 1 0 1 1 1 0 0 0\n",
      " 0 0 0 1 0 0 0 0 0 0 0 0 0 0 1 1 0 1 0 0 0 0 0 1 1 0 0 0 0 0 0 1 0 1 0 1 1\n",
      " 0 1 1 1 1 1 0 0 0 1 0 1 0 0 0 0 1 0 0 0 0 0 0 0 0 0 0 0 0 1 0 0 0 0 0 1 1\n",
      " 1 0 0 1 0 0 0 0 1 0 0 0 0 0 0 1 0 1 0 1 0 0 0 0 0 1 0 0 0 0 0 0 0 0 0 0 0\n",
      " 0 1 1 1 0 0 0 0 0 0 0 0 1 0 1 0 0 1 0 0 0 0 0 1 0 1 0 0 0 0 0 1 1 1 0 1 1\n",
      " 0 0 0 0 0 1 0 1 1]\n"
     ]
    }
   ],
   "source": [
    "X3=diabetes_df.iloc[:,0:-1]\n",
    "y3=diabetes_df.iloc[:,-1]\n",
    "\n",
    "X3_train,X3_test,y3_train,y3_test=train_test_split(X3,y3,test_size=0.3,stratify=y)\n",
    "\n",
    "\n",
    "from sklearn.neighbors import KNeighborsClassifier\n",
    "\n",
    "knn = KNeighborsClassifier(n_neighbors=25)\n",
    "\n",
    "knn.fit(X3_train,y3_train)\n",
    "y3_predicted = knn.predict(X3_test)\n",
    "print(y3_predicted)"
   ]
  },
  {
   "cell_type": "code",
   "execution_count": 57,
   "id": "17ac3bff",
   "metadata": {},
   "outputs": [
    {
     "name": "stdout",
     "output_type": "stream",
     "text": [
      "0.7272727272727273\n"
     ]
    }
   ],
   "source": [
    "print(knn.score(X3_test, y3_test))"
   ]
  },
  {
   "cell_type": "code",
   "execution_count": 58,
   "id": "3dccf96c",
   "metadata": {},
   "outputs": [
    {
     "name": "stdout",
     "output_type": "stream",
     "text": [
      "0.75390625\n"
     ]
    }
   ],
   "source": [
    "print(knn.score(X3,y3))"
   ]
  },
  {
   "cell_type": "code",
   "execution_count": 59,
   "id": "78de8713",
   "metadata": {},
   "outputs": [
    {
     "data": {
      "text/plain": [
       "array([[126,  24],\n",
       "       [ 39,  42]])"
      ]
     },
     "execution_count": 59,
     "metadata": {},
     "output_type": "execute_result"
    }
   ],
   "source": [
    "con_knn= confusion_matrix(y3_test, y3_predicted)\n",
    "con_knn"
   ]
  },
  {
   "cell_type": "code",
   "execution_count": 62,
   "id": "585ea8fb",
   "metadata": {},
   "outputs": [
    {
     "data": {
      "image/png": "[encoded data removed]",
      "text/plain": [
       "<Figure size 432x288 with 2 Axes>"
      ]
     },
     "metadata": {
      "needs_background": "light"
     },
     "output_type": "display_data"
    }
   ],
   "source": [
    "plot_confusion_matrix(diabetes_log, X3_test, y3_test);"
   ]
  },
  {
   "cell_type": "code",
   "execution_count": 61,
   "id": "b8671459",
   "metadata": {},
   "outputs": [
    {
     "name": "stdout",
     "output_type": "stream",
     "text": [
      "Accuracy for KNN: 0.7272727272727273\n",
      "Sensitivity for KNN: 0.5185185185185185\n",
      "Sensitivity for Logistic: 0.84\n"
     ]
    }
   ],
   "source": [
    "TN1 = con_knn[0,0]\n",
    "TP1 = con_knn[1,1]\n",
    "FN1 = con_knn[1,0]\n",
    "FP1 = con_knn[0,1]\n",
    "\n",
    "Accuracy_knn= (TN1 + TP1) / (TN1 + TP1 + FN1 + FP1)\n",
    "print(\"Accuracy for KNN:\", Accuracy_knn)\n",
    "\n",
    "sens_knn = TP1 / (FN1 + TP1)\n",
    "print(\"Sensitivity for KNN:\", sens_knn)\n",
    "\n",
    "spec_knn = TN1 / (TN1 + FP1)\n",
    "print(\"Sensitivity for Logistic:\", spec_knn)"
   ]
  },
  {
   "cell_type": "markdown",
   "id": "40deac85",
   "metadata": {},
   "source": [
    "On comparision betweeen logistic and knn:\n",
    "Accuracy which is propotion of correct predictions for logistic it is 78% when compared to knn it is 73%.\n",
    "Sensitivity which is propotion of true positives is slightly less for logistic.\n",
    "Specificity, propotion of true negatives is same for both the cases.\n",
    "After considering all, it is advisable to use Logistic Regression when compared with KNN becasue of high accuracy rate. For scenarios like this proper diagnosis is necessary so high accuracy model and lower specificity is preferred."
   ]
  },
  {
   "attachments": {
    "Screen%20Shot%202022-01-04%20at%2011.17.35%20AM.png": {
     "image/png": "[encoded data removed]"
    }
   },
   "cell_type": "markdown",
   "id": "0a2f5dc8",
   "metadata": {},
   "source": [
    "![Screen%20Shot%202022-01-04%20at%2011.17.35%20AM.png](attachment:Screen%20Shot%202022-01-04%20at%2011.17.35%20AM.png)"
   ]
  },
  {
   "cell_type": "code",
   "execution_count": null,
   "id": "4860ec44",
   "metadata": {},
   "outputs": [],
   "source": []
  }
 ],
 "metadata": {
  "kernelspec": {
   "display_name": "Python 3",
   "language": "python",
   "name": "python3"
  },
  "language_info": {
   "codemirror_mode": {
    "name": "ipython",
    "version": 3
   },
   "file_extension": ".py",
   "mimetype": "text/x-python",
   "name": "python",
   "nbconvert_exporter": "python",
   "pygments_lexer": "ipython3",
   "version": "3.8.5"
  }
 },
 "nbformat": 4,
 "nbformat_minor": 5
}
